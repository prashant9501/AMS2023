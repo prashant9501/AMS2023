{
  "nbformat": 4,
  "nbformat_minor": 0,
  "metadata": {
    "colab": {
      "provenance": []
    },
    "kernelspec": {
      "name": "python3",
      "display_name": "Python 3"
    },
    "language_info": {
      "name": "python"
    }
  },
  "cells": [
    {
      "cell_type": "code",
      "source": [
        "import numpy as np\n",
        "\n",
        "A = np.array([[1,   2,  3],\n",
        "              [21, 35, 63],\n",
        "              [17, 28, 39]])\n",
        "\n",
        "print('The value of the determinant of A:', np.linalg.det(A))\n",
        "A_inv = np.linalg.inv(A)\n",
        "print(\"Inverse of A:\\n\", A_inv)"
      ],
      "metadata": {
        "colab": {
          "base_uri": "https://localhost:8080/"
        },
        "id": "wRGSRywouV_s",
        "outputId": "5a703c02-5741-4d3d-f565-f614781ab16d"
      },
      "execution_count": null,
      "outputs": [
        {
          "output_type": "stream",
          "name": "stdout",
          "text": [
            "The value of the determinant of A: 84.00000000000006\n",
            "Inverse of A:\n",
            " [[-4.75        0.07142857  0.25      ]\n",
            " [ 3.         -0.14285714  0.        ]\n",
            " [-0.08333333  0.07142857 -0.08333333]]\n"
          ]
        }
      ]
    },
    {
      "cell_type": "code",
      "source": [
        "# Singular matrices (whose det is ~0) are NOT Invertible\n",
        "A1 = np.array([[1, 2, 3],\n",
        "              [4, 5, 6],\n",
        "              [7, 8, 9]])\n",
        "\n",
        "print('The value of the determinant of A1:', np.linalg.det(A1))\n",
        "A1_inv = np.linalg.inv(A1)\n",
        "A1_inv"
      ],
      "metadata": {
        "colab": {
          "base_uri": "https://localhost:8080/",
          "height": 405
        },
        "id": "Q7iJWNVsuVu0",
        "outputId": "873c8219-a867-4269-f23a-3d2f194df526"
      },
      "execution_count": null,
      "outputs": [
        {
          "output_type": "stream",
          "name": "stdout",
          "text": [
            "The value of the determinant of A1: 0.0\n"
          ]
        },
        {
          "output_type": "error",
          "ename": "LinAlgError",
          "evalue": "ignored",
          "traceback": [
            "\u001b[0;31m---------------------------------------------------------------------------\u001b[0m",
            "\u001b[0;31mLinAlgError\u001b[0m                               Traceback (most recent call last)",
            "\u001b[0;32m<ipython-input-8-1e9b7ce22cf6>\u001b[0m in \u001b[0;36m<cell line: 6>\u001b[0;34m()\u001b[0m\n\u001b[1;32m      4\u001b[0m \u001b[0;34m\u001b[0m\u001b[0m\n\u001b[1;32m      5\u001b[0m \u001b[0mprint\u001b[0m\u001b[0;34m(\u001b[0m\u001b[0;34m'The value of the determinant of A1:'\u001b[0m\u001b[0;34m,\u001b[0m \u001b[0mnp\u001b[0m\u001b[0;34m.\u001b[0m\u001b[0mlinalg\u001b[0m\u001b[0;34m.\u001b[0m\u001b[0mdet\u001b[0m\u001b[0;34m(\u001b[0m\u001b[0mA1\u001b[0m\u001b[0;34m)\u001b[0m\u001b[0;34m)\u001b[0m\u001b[0;34m\u001b[0m\u001b[0;34m\u001b[0m\u001b[0m\n\u001b[0;32m----> 6\u001b[0;31m \u001b[0mA1_inv\u001b[0m \u001b[0;34m=\u001b[0m \u001b[0mnp\u001b[0m\u001b[0;34m.\u001b[0m\u001b[0mlinalg\u001b[0m\u001b[0;34m.\u001b[0m\u001b[0minv\u001b[0m\u001b[0;34m(\u001b[0m\u001b[0mA1\u001b[0m\u001b[0;34m)\u001b[0m\u001b[0;34m\u001b[0m\u001b[0;34m\u001b[0m\u001b[0m\n\u001b[0m\u001b[1;32m      7\u001b[0m \u001b[0mA1_inv\u001b[0m\u001b[0;34m\u001b[0m\u001b[0;34m\u001b[0m\u001b[0m\n",
            "\u001b[0;32m/usr/local/lib/python3.10/dist-packages/numpy/core/overrides.py\u001b[0m in \u001b[0;36minv\u001b[0;34m(*args, **kwargs)\u001b[0m\n",
            "\u001b[0;32m/usr/local/lib/python3.10/dist-packages/numpy/linalg/linalg.py\u001b[0m in \u001b[0;36minv\u001b[0;34m(a)\u001b[0m\n\u001b[1;32m    550\u001b[0m     \u001b[0msignature\u001b[0m \u001b[0;34m=\u001b[0m \u001b[0;34m'D->D'\u001b[0m \u001b[0;32mif\u001b[0m \u001b[0misComplexType\u001b[0m\u001b[0;34m(\u001b[0m\u001b[0mt\u001b[0m\u001b[0;34m)\u001b[0m \u001b[0;32melse\u001b[0m \u001b[0;34m'd->d'\u001b[0m\u001b[0;34m\u001b[0m\u001b[0;34m\u001b[0m\u001b[0m\n\u001b[1;32m    551\u001b[0m     \u001b[0mextobj\u001b[0m \u001b[0;34m=\u001b[0m \u001b[0mget_linalg_error_extobj\u001b[0m\u001b[0;34m(\u001b[0m\u001b[0m_raise_linalgerror_singular\u001b[0m\u001b[0;34m)\u001b[0m\u001b[0;34m\u001b[0m\u001b[0;34m\u001b[0m\u001b[0m\n\u001b[0;32m--> 552\u001b[0;31m     \u001b[0mainv\u001b[0m \u001b[0;34m=\u001b[0m \u001b[0m_umath_linalg\u001b[0m\u001b[0;34m.\u001b[0m\u001b[0minv\u001b[0m\u001b[0;34m(\u001b[0m\u001b[0ma\u001b[0m\u001b[0;34m,\u001b[0m \u001b[0msignature\u001b[0m\u001b[0;34m=\u001b[0m\u001b[0msignature\u001b[0m\u001b[0;34m,\u001b[0m \u001b[0mextobj\u001b[0m\u001b[0;34m=\u001b[0m\u001b[0mextobj\u001b[0m\u001b[0;34m)\u001b[0m\u001b[0;34m\u001b[0m\u001b[0;34m\u001b[0m\u001b[0m\n\u001b[0m\u001b[1;32m    553\u001b[0m     \u001b[0;32mreturn\u001b[0m \u001b[0mwrap\u001b[0m\u001b[0;34m(\u001b[0m\u001b[0mainv\u001b[0m\u001b[0;34m.\u001b[0m\u001b[0mastype\u001b[0m\u001b[0;34m(\u001b[0m\u001b[0mresult_t\u001b[0m\u001b[0;34m,\u001b[0m \u001b[0mcopy\u001b[0m\u001b[0;34m=\u001b[0m\u001b[0;32mFalse\u001b[0m\u001b[0;34m)\u001b[0m\u001b[0;34m)\u001b[0m\u001b[0;34m\u001b[0m\u001b[0;34m\u001b[0m\u001b[0m\n\u001b[1;32m    554\u001b[0m \u001b[0;34m\u001b[0m\u001b[0m\n",
            "\u001b[0;32m/usr/local/lib/python3.10/dist-packages/numpy/linalg/linalg.py\u001b[0m in \u001b[0;36m_raise_linalgerror_singular\u001b[0;34m(err, flag)\u001b[0m\n\u001b[1;32m     87\u001b[0m \u001b[0;34m\u001b[0m\u001b[0m\n\u001b[1;32m     88\u001b[0m \u001b[0;32mdef\u001b[0m \u001b[0m_raise_linalgerror_singular\u001b[0m\u001b[0;34m(\u001b[0m\u001b[0merr\u001b[0m\u001b[0;34m,\u001b[0m \u001b[0mflag\u001b[0m\u001b[0;34m)\u001b[0m\u001b[0;34m:\u001b[0m\u001b[0;34m\u001b[0m\u001b[0;34m\u001b[0m\u001b[0m\n\u001b[0;32m---> 89\u001b[0;31m     \u001b[0;32mraise\u001b[0m \u001b[0mLinAlgError\u001b[0m\u001b[0;34m(\u001b[0m\u001b[0;34m\"Singular matrix\"\u001b[0m\u001b[0;34m)\u001b[0m\u001b[0;34m\u001b[0m\u001b[0;34m\u001b[0m\u001b[0m\n\u001b[0m\u001b[1;32m     90\u001b[0m \u001b[0;34m\u001b[0m\u001b[0m\n\u001b[1;32m     91\u001b[0m \u001b[0;32mdef\u001b[0m \u001b[0m_raise_linalgerror_nonposdef\u001b[0m\u001b[0;34m(\u001b[0m\u001b[0merr\u001b[0m\u001b[0;34m,\u001b[0m \u001b[0mflag\u001b[0m\u001b[0;34m)\u001b[0m\u001b[0;34m:\u001b[0m\u001b[0;34m\u001b[0m\u001b[0;34m\u001b[0m\u001b[0m\n",
            "\u001b[0;31mLinAlgError\u001b[0m: Singular matrix"
          ]
        }
      ]
    },
    {
      "cell_type": "code",
      "source": [
        "I = np.eye(3) # Identity matrix of (3,3)\n",
        "I.astype('int32')  # typecasting or Typeconversion"
      ],
      "metadata": {
        "colab": {
          "base_uri": "https://localhost:8080/"
        },
        "id": "vOHdAf2muVcB",
        "outputId": "17ada5ab-0f19-40c3-b6d9-ef5a57a08e69"
      },
      "execution_count": null,
      "outputs": [
        {
          "output_type": "execute_result",
          "data": {
            "text/plain": [
              "array([[1, 0, 0],\n",
              "       [0, 1, 0],\n",
              "       [0, 0, 1]], dtype=int32)"
            ]
          },
          "metadata": {},
          "execution_count": 15
        }
      ]
    },
    {
      "cell_type": "code",
      "source": [
        "I.dtype"
      ],
      "metadata": {
        "colab": {
          "base_uri": "https://localhost:8080/"
        },
        "id": "iDfPbZsMw6cT",
        "outputId": "7d0cc4ef-9833-44fd-cb87-04df7f21211b"
      },
      "execution_count": null,
      "outputs": [
        {
          "output_type": "execute_result",
          "data": {
            "text/plain": [
              "dtype('float64')"
            ]
          },
          "metadata": {},
          "execution_count": 14
        }
      ]
    },
    {
      "cell_type": "code",
      "source": [
        "zeros = np.zeros((3,3))\n",
        "zeros"
      ],
      "metadata": {
        "colab": {
          "base_uri": "https://localhost:8080/"
        },
        "id": "lheKw0RIuVJH",
        "outputId": "dae3a51d-2900-4b87-d7a8-01baf87c15b1"
      },
      "execution_count": null,
      "outputs": [
        {
          "output_type": "execute_result",
          "data": {
            "text/plain": [
              "array([[0., 0., 0.],\n",
              "       [0., 0., 0.],\n",
              "       [0., 0., 0.]])"
            ]
          },
          "metadata": {},
          "execution_count": 13
        }
      ]
    },
    {
      "cell_type": "code",
      "source": [
        "ones = np.ones((4,4))*100\n",
        "ones"
      ],
      "metadata": {
        "colab": {
          "base_uri": "https://localhost:8080/"
        },
        "id": "iqonyVYFuU3N",
        "outputId": "a58656ee-7ad2-4483-a05c-ae3ca731ed14"
      },
      "execution_count": null,
      "outputs": [
        {
          "output_type": "execute_result",
          "data": {
            "text/plain": [
              "array([[100., 100., 100., 100.],\n",
              "       [100., 100., 100., 100.],\n",
              "       [100., 100., 100., 100.],\n",
              "       [100., 100., 100., 100.]])"
            ]
          },
          "metadata": {},
          "execution_count": 17
        }
      ]
    },
    {
      "cell_type": "code",
      "source": [
        "B = np.array([[1, 2, 3],\n",
        "              [4, 5, 6],\n",
        "              [7, 8, 9]])\n",
        "np.matmul(A, B).T"
      ],
      "metadata": {
        "colab": {
          "base_uri": "https://localhost:8080/"
        },
        "id": "uFHjmo5IuUnt",
        "outputId": "bcf28cf0-eb70-4693-bf35-57d1fb360924"
      },
      "execution_count": null,
      "outputs": [
        {
          "output_type": "execute_result",
          "data": {
            "text/plain": [
              "array([[ 30, 602, 402],\n",
              "       [ 36, 721, 486],\n",
              "       [ 42, 840, 570]])"
            ]
          },
          "metadata": {},
          "execution_count": 20
        }
      ]
    },
    {
      "cell_type": "code",
      "source": [
        "np.matmul(B.T, A.T)"
      ],
      "metadata": {
        "colab": {
          "base_uri": "https://localhost:8080/"
        },
        "id": "XE_OBRD_ZmAo",
        "outputId": "aa18e293-ee15-4836-c527-8d1e243860bd"
      },
      "execution_count": null,
      "outputs": [
        {
          "output_type": "execute_result",
          "data": {
            "text/plain": [
              "array([[ 30, 602, 402],\n",
              "       [ 36, 721, 486],\n",
              "       [ 42, 840, 570]])"
            ]
          },
          "metadata": {},
          "execution_count": 21
        }
      ]
    },
    {
      "cell_type": "code",
      "source": [],
      "metadata": {
        "id": "APK5oDjeZl7M"
      },
      "execution_count": null,
      "outputs": []
    },
    {
      "cell_type": "code",
      "source": [],
      "metadata": {
        "id": "R2-rn_W-Zl2J"
      },
      "execution_count": null,
      "outputs": []
    },
    {
      "cell_type": "markdown",
      "source": [
        "# Rank of a Matrix\n",
        "The rank of a matrix is a fundamental concept in linear algebra. It refers to the maximum number of linearly independent column vectors in the matrix or the maximum number of linearly independent row vectors in the matrix. Both definitions are equivalent.\n",
        "\n",
        "**What Does Matrix Rank Mean?**\n",
        "\n",
        "- **In terms of linear independence:** If you have a set of vectors, they are linearly independent if no vector in the set is a combination of other vectors. The rank of a matrix is the largest subset of rows or columns that is linearly independent. So, for a given matrix, if you have the maximum of 'r' rows (or columns) that are linearly independent, then no other set with more than 'r' rows (or columns) can be linearly independent, and thus the rank is 'r'.\n",
        "\n",
        "\n",
        "**Applications of Matrix Rank:**\n",
        "\n",
        "1. **Solving Systems of Linear Equations:** The rank is used to determine whether a system of linear equations has a unique solution, no solution, or infinitely many solutions.\n",
        "\n",
        "2. **Economics and Business:** In input-output analysis, which examines the interdependencies between different industries, the rank of the matrix can reveal the chain of effects of one sector on others.\n",
        "\n",
        "3. **Engineering and Computer Science:** In image processing, the rank of matrices representing digital images is studied for image compression. Lower-rank approximations can significantly compress the size of the image data.\n",
        "\n",
        "4. **Data Science:** In machine learning, particularly in the reduction of dimensionality of data, techniques like Principal Component Analysis (PCA) work by computing a low-rank approximation of the data matrix.\n",
        "\n",
        "5. **Psychometrics:** In factor analysis, used for assessing the validity of tests or questionnaires, the rank of a matrix determines the minimum number of common factors influencing a set of measures.\n",
        "\n",
        "```\n",
        "\n",
        "```\n",
        "\n",
        "This code calculates and prints the rank of matrix A. The `matrix_rank` function uses the Singular Value Decomposition (SVD) method to calculate the rank accurately, including for matrices with zero or very small singular values."
      ],
      "metadata": {
        "id": "bEBLSInwZrLg"
      }
    },
    {
      "cell_type": "code",
      "source": [
        "import numpy as np\n",
        "\n",
        "# # Creating a 2x3 matrix\n",
        "A = np.array([[1,   2,  3],\n",
        "              [21, 35, 63],\n",
        "              [17, 28, 39]])\n",
        "\n",
        "# Calculating the rank of the matrix\n",
        "rank = np.linalg.matrix_rank(A)\n",
        "\n",
        "print(\"Rank of the matrix:\", rank)"
      ],
      "metadata": {
        "colab": {
          "base_uri": "https://localhost:8080/"
        },
        "id": "N_67H-Q_Z1LO",
        "outputId": "6be1ca17-efda-4d3c-b11e-85c016bd266e"
      },
      "execution_count": null,
      "outputs": [
        {
          "output_type": "stream",
          "name": "stdout",
          "text": [
            "Rank of the matrix: 3\n"
          ]
        }
      ]
    },
    {
      "cell_type": "code",
      "source": [
        "# # Creating a 2x3 matrix\n",
        "A = np.array([[1, 2, 3],\n",
        "              [4, 5, 6],\n",
        "              [50, 70, 90]])\n",
        "\n",
        "# A[2]= 3*A[0] - 5*A[1]   # 3rd row as linear combination of the 1st 2 rows\n",
        "A[:,1] = 5*A[:,0]  # 2nd col as multiple of the 1st col\n",
        "A[:,2] = 3*A[:,0] + 5*A[:,1] # 3rd col as linear combination of the 1st 2 cols\n",
        "\n",
        "print(A)\n",
        "# Calculating the rank of the matrix\n",
        "rank = np.linalg.matrix_rank(A)\n",
        "\n",
        "print(\"Rank of the matrix:\", rank)"
      ],
      "metadata": {
        "colab": {
          "base_uri": "https://localhost:8080/"
        },
        "id": "ScmqC8XmZlxh",
        "outputId": "2a1b27b3-2756-4e40-8ec9-76b4149fe41f"
      },
      "execution_count": null,
      "outputs": [
        {
          "output_type": "stream",
          "name": "stdout",
          "text": [
            "[[   1    5   28]\n",
            " [   4   20  112]\n",
            " [  50  250 1400]]\n",
            "Rank of the matrix: 1\n"
          ]
        }
      ]
    },
    {
      "cell_type": "code",
      "source": [
        "np.linalg.inv(A)"
      ],
      "metadata": {
        "colab": {
          "base_uri": "https://localhost:8080/",
          "height": 333
        },
        "id": "HD8wE0L-__uE",
        "outputId": "50df196f-3581-49bb-bbe4-a1952efdb78d"
      },
      "execution_count": null,
      "outputs": [
        {
          "output_type": "error",
          "ename": "LinAlgError",
          "evalue": "ignored",
          "traceback": [
            "\u001b[0;31m---------------------------------------------------------------------------\u001b[0m",
            "\u001b[0;31mLinAlgError\u001b[0m                               Traceback (most recent call last)",
            "\u001b[0;32m<ipython-input-33-ae645f97e1f8>\u001b[0m in \u001b[0;36m<cell line: 1>\u001b[0;34m()\u001b[0m\n\u001b[0;32m----> 1\u001b[0;31m \u001b[0mnp\u001b[0m\u001b[0;34m.\u001b[0m\u001b[0mlinalg\u001b[0m\u001b[0;34m.\u001b[0m\u001b[0minv\u001b[0m\u001b[0;34m(\u001b[0m\u001b[0mA\u001b[0m\u001b[0;34m)\u001b[0m\u001b[0;34m\u001b[0m\u001b[0;34m\u001b[0m\u001b[0m\n\u001b[0m",
            "\u001b[0;32m/usr/local/lib/python3.10/dist-packages/numpy/core/overrides.py\u001b[0m in \u001b[0;36minv\u001b[0;34m(*args, **kwargs)\u001b[0m\n",
            "\u001b[0;32m/usr/local/lib/python3.10/dist-packages/numpy/linalg/linalg.py\u001b[0m in \u001b[0;36minv\u001b[0;34m(a)\u001b[0m\n\u001b[1;32m    550\u001b[0m     \u001b[0msignature\u001b[0m \u001b[0;34m=\u001b[0m \u001b[0;34m'D->D'\u001b[0m \u001b[0;32mif\u001b[0m \u001b[0misComplexType\u001b[0m\u001b[0;34m(\u001b[0m\u001b[0mt\u001b[0m\u001b[0;34m)\u001b[0m \u001b[0;32melse\u001b[0m \u001b[0;34m'd->d'\u001b[0m\u001b[0;34m\u001b[0m\u001b[0;34m\u001b[0m\u001b[0m\n\u001b[1;32m    551\u001b[0m     \u001b[0mextobj\u001b[0m \u001b[0;34m=\u001b[0m \u001b[0mget_linalg_error_extobj\u001b[0m\u001b[0;34m(\u001b[0m\u001b[0m_raise_linalgerror_singular\u001b[0m\u001b[0;34m)\u001b[0m\u001b[0;34m\u001b[0m\u001b[0;34m\u001b[0m\u001b[0m\n\u001b[0;32m--> 552\u001b[0;31m     \u001b[0mainv\u001b[0m \u001b[0;34m=\u001b[0m \u001b[0m_umath_linalg\u001b[0m\u001b[0;34m.\u001b[0m\u001b[0minv\u001b[0m\u001b[0;34m(\u001b[0m\u001b[0ma\u001b[0m\u001b[0;34m,\u001b[0m \u001b[0msignature\u001b[0m\u001b[0;34m=\u001b[0m\u001b[0msignature\u001b[0m\u001b[0;34m,\u001b[0m \u001b[0mextobj\u001b[0m\u001b[0;34m=\u001b[0m\u001b[0mextobj\u001b[0m\u001b[0;34m)\u001b[0m\u001b[0;34m\u001b[0m\u001b[0;34m\u001b[0m\u001b[0m\n\u001b[0m\u001b[1;32m    553\u001b[0m     \u001b[0;32mreturn\u001b[0m \u001b[0mwrap\u001b[0m\u001b[0;34m(\u001b[0m\u001b[0mainv\u001b[0m\u001b[0;34m.\u001b[0m\u001b[0mastype\u001b[0m\u001b[0;34m(\u001b[0m\u001b[0mresult_t\u001b[0m\u001b[0;34m,\u001b[0m \u001b[0mcopy\u001b[0m\u001b[0;34m=\u001b[0m\u001b[0;32mFalse\u001b[0m\u001b[0;34m)\u001b[0m\u001b[0;34m)\u001b[0m\u001b[0;34m\u001b[0m\u001b[0;34m\u001b[0m\u001b[0m\n\u001b[1;32m    554\u001b[0m \u001b[0;34m\u001b[0m\u001b[0m\n",
            "\u001b[0;32m/usr/local/lib/python3.10/dist-packages/numpy/linalg/linalg.py\u001b[0m in \u001b[0;36m_raise_linalgerror_singular\u001b[0;34m(err, flag)\u001b[0m\n\u001b[1;32m     87\u001b[0m \u001b[0;34m\u001b[0m\u001b[0m\n\u001b[1;32m     88\u001b[0m \u001b[0;32mdef\u001b[0m \u001b[0m_raise_linalgerror_singular\u001b[0m\u001b[0;34m(\u001b[0m\u001b[0merr\u001b[0m\u001b[0;34m,\u001b[0m \u001b[0mflag\u001b[0m\u001b[0;34m)\u001b[0m\u001b[0;34m:\u001b[0m\u001b[0;34m\u001b[0m\u001b[0;34m\u001b[0m\u001b[0m\n\u001b[0;32m---> 89\u001b[0;31m     \u001b[0;32mraise\u001b[0m \u001b[0mLinAlgError\u001b[0m\u001b[0;34m(\u001b[0m\u001b[0;34m\"Singular matrix\"\u001b[0m\u001b[0;34m)\u001b[0m\u001b[0;34m\u001b[0m\u001b[0;34m\u001b[0m\u001b[0m\n\u001b[0m\u001b[1;32m     90\u001b[0m \u001b[0;34m\u001b[0m\u001b[0m\n\u001b[1;32m     91\u001b[0m \u001b[0;32mdef\u001b[0m \u001b[0m_raise_linalgerror_nonposdef\u001b[0m\u001b[0;34m(\u001b[0m\u001b[0merr\u001b[0m\u001b[0;34m,\u001b[0m \u001b[0mflag\u001b[0m\u001b[0;34m)\u001b[0m\u001b[0;34m:\u001b[0m\u001b[0;34m\u001b[0m\u001b[0;34m\u001b[0m\u001b[0m\n",
            "\u001b[0;31mLinAlgError\u001b[0m: Singular matrix"
          ]
        }
      ]
    },
    {
      "cell_type": "code",
      "source": [
        "# # Creating a 2x3 matrix\n",
        "A = np.array([[1, 2,  2],\n",
        "              [4, 5, 20],\n",
        "              [5, 7, 35]])\n",
        "\n",
        "# Calculating the rank of the matrix\n",
        "rank = np.linalg.matrix_rank(A)\n",
        "\n",
        "print(\"Rank of the matrix:\", rank)"
      ],
      "metadata": {
        "colab": {
          "base_uri": "https://localhost:8080/"
        },
        "id": "Rq-FyoqmAuBn",
        "outputId": "6f20c21b-36da-4fe0-90b9-cc89095bb1a3"
      },
      "execution_count": null,
      "outputs": [
        {
          "output_type": "stream",
          "name": "stdout",
          "text": [
            "Rank of the matrix: 3\n"
          ]
        }
      ]
    },
    {
      "cell_type": "markdown",
      "source": [
        "# Vector Dot Product\n",
        "The vector dot product, also known as the scalar product, is a fundamental operation in linear algebra with numerous practical applications in various fields, including physics, engineering, computer science, business, and data science. It involves the multiplication of two vectors, resulting in a scalar value. This operation captures essential information about the vectors' magnitude and direction, particularly their cosine similarity. Here are some real-world applications and specific use-cases in business and data science:\n",
        "\n",
        "**1. Physics and Engineering:**\n",
        "   - **Work Done by a Force:** In physics, the dot product is used to calculate the work done by a force. Work is calculated as the dot product of force and displacement vectors. This concept is fundamental in mechanics, helping engineers understand and optimize mechanical systems.\n",
        "   - **Projection in Navigation Systems:** Engineers use the dot product in calculating the projection of one vector onto another, useful in navigation, robotics, and aeronautics for determining paths or course directions.\n",
        "\n",
        "**2. Computer Graphics and Vision:**\n",
        "   - **3D Rendering and Lighting:** The dot product is essential in computer graphics, particularly in determining the angle between light sources and surfaces, known as \"shading.\" When rendering 3D objects, the dot product helps calculate how light reflects on surfaces, influencing the object's appearance.\n",
        "   - **Facial Recognition:** In computer vision, the dot product can measure the similarity between different images or shapes. It's useful in facial recognition technologies, comparing the alignment and features of faces.\n",
        "\n",
        "**3. Business:**\n",
        "   - **Decision Making in Investments:** In finance, portfolio managers use the dot product to diversify asset portfolios. They can project one asset's returns onto another, helping in understanding correlations between different assets and making informed investment decisions.\n",
        "   - **Market Strategy Alignment:** Businesses can use dot product calculations to align market strategies with consumer trends by treating market factors and strategy elements as vectors. The result helps in understanding the degree of alignment between a company's strategy and market needs.\n",
        "\n",
        "**4. Data Science:**\n",
        "   - **Cosine Similarity in Text Analysis:** In natural language processing (NLP), cosine similarity (calculated using the dot product) measures the similarity between two documents or sentences, helping in tasks like document clustering, topic modeling, or sentiment analysis.\n",
        "   - **Recommendation Systems:** Dot product is used in recommendation engines, common in e-commerce and online streaming platforms. By treating customer preferences and product features as vectors, the dot product helps in identifying customer preferences, thereby suggesting items similar to their past purchases or views.\n",
        "   - **Machine Learning Algorithms:** Several machine learning algorithms, especially in deep learning (like convolutional neural networks), use dot products to calculate weights' impact on inputs in their layers, significantly affecting the network's performance and results.\n",
        "\n",
        "**5. Healthcare:**\n",
        "   - **Genomic Research:** In bioinformatics, researchers use the dot product to measure the similarity between different genetic sequences, aiding in understanding genetic diseases, evolution, and traits inheritance."
      ],
      "metadata": {
        "id": "tkbKBQ6yLK2C"
      }
    },
    {
      "cell_type": "markdown",
      "source": [],
      "metadata": {
        "id": "BLb8Cu6tLH6s"
      }
    },
    {
      "cell_type": "code",
      "source": [
        "u = np.array([1,2,3])  # 1D   >>> same as in maths/physics that we studied\n",
        "v = np.array([2,5,9])\n",
        "u.dot(v)"
      ],
      "metadata": {
        "colab": {
          "base_uri": "https://localhost:8080/"
        },
        "id": "-ErgnuDAI_Rh",
        "outputId": "40f7ab1b-64b6-4b01-909a-b00a9073af36"
      },
      "execution_count": null,
      "outputs": [
        {
          "output_type": "execute_result",
          "data": {
            "text/plain": [
              "39"
            ]
          },
          "metadata": {},
          "execution_count": 39
        }
      ]
    },
    {
      "cell_type": "code",
      "source": [
        "u.dot(v.T)"
      ],
      "metadata": {
        "colab": {
          "base_uri": "https://localhost:8080/"
        },
        "id": "y9W4G-6IQIS5",
        "outputId": "3375bbef-aefa-43f9-90d3-9513ed5bd652"
      },
      "execution_count": null,
      "outputs": [
        {
          "output_type": "execute_result",
          "data": {
            "text/plain": [
              "39"
            ]
          },
          "metadata": {},
          "execution_count": 41
        }
      ]
    },
    {
      "cell_type": "code",
      "source": [
        "u = u.reshape(-1,1)  # 2D\n",
        "v = v.reshape(-1,1)  # 2D\n",
        "# u, v\n",
        "print(u.dot(v))\n"
      ],
      "metadata": {
        "colab": {
          "base_uri": "https://localhost:8080/",
          "height": 217
        },
        "id": "6bpaVXPyLWdW",
        "outputId": "3a2f29ca-e0d5-40fa-ce49-2937a4264935"
      },
      "execution_count": null,
      "outputs": [
        {
          "output_type": "error",
          "ename": "ValueError",
          "evalue": "ignored",
          "traceback": [
            "\u001b[0;31m---------------------------------------------------------------------------\u001b[0m",
            "\u001b[0;31mValueError\u001b[0m                                Traceback (most recent call last)",
            "\u001b[0;32m<ipython-input-37-178a4cbbe6c2>\u001b[0m in \u001b[0;36m<cell line: 4>\u001b[0;34m()\u001b[0m\n\u001b[1;32m      2\u001b[0m \u001b[0mv\u001b[0m \u001b[0;34m=\u001b[0m \u001b[0mv\u001b[0m\u001b[0;34m.\u001b[0m\u001b[0mreshape\u001b[0m\u001b[0;34m(\u001b[0m\u001b[0;34m-\u001b[0m\u001b[0;36m1\u001b[0m\u001b[0;34m,\u001b[0m\u001b[0;36m1\u001b[0m\u001b[0;34m)\u001b[0m\u001b[0;34m\u001b[0m\u001b[0;34m\u001b[0m\u001b[0m\n\u001b[1;32m      3\u001b[0m \u001b[0;31m# u, v\u001b[0m\u001b[0;34m\u001b[0m\u001b[0;34m\u001b[0m\u001b[0m\n\u001b[0;32m----> 4\u001b[0;31m \u001b[0mprint\u001b[0m\u001b[0;34m(\u001b[0m\u001b[0mu\u001b[0m\u001b[0;34m.\u001b[0m\u001b[0mdot\u001b[0m\u001b[0;34m(\u001b[0m\u001b[0mv\u001b[0m\u001b[0;34m)\u001b[0m\u001b[0;34m)\u001b[0m\u001b[0;34m\u001b[0m\u001b[0;34m\u001b[0m\u001b[0m\n\u001b[0m",
            "\u001b[0;31mValueError\u001b[0m: shapes (3,1) and (3,1) not aligned: 1 (dim 1) != 3 (dim 0)"
          ]
        }
      ]
    },
    {
      "cell_type": "code",
      "source": [
        "u = u.reshape(1,-1)  # 2D >> row vector\n",
        "v = v.reshape(-1,1)  # 2D >> col vector\n",
        "# u, v\n",
        "print(u.dot(v))"
      ],
      "metadata": {
        "colab": {
          "base_uri": "https://localhost:8080/"
        },
        "id": "5bfKY_K_LWal",
        "outputId": "e0258328-b777-4848-bca3-f521e3d6a6b6"
      },
      "execution_count": null,
      "outputs": [
        {
          "output_type": "stream",
          "name": "stdout",
          "text": [
            "[[39]]\n"
          ]
        }
      ]
    },
    {
      "cell_type": "code",
      "source": [
        "A"
      ],
      "metadata": {
        "colab": {
          "base_uri": "https://localhost:8080/"
        },
        "id": "7Oj0wW1FLWYl",
        "outputId": "d725bf46-7c00-4d22-d5e3-2d1721b62a7c"
      },
      "execution_count": null,
      "outputs": [
        {
          "output_type": "execute_result",
          "data": {
            "text/plain": [
              "array([[   1,    5,   28],\n",
              "       [   4,   20,  112],\n",
              "       [  50,  250, 1400]])"
            ]
          },
          "metadata": {},
          "execution_count": 42
        }
      ]
    },
    {
      "cell_type": "code",
      "source": [
        "A.flatten()"
      ],
      "metadata": {
        "colab": {
          "base_uri": "https://localhost:8080/"
        },
        "id": "Du8XdqurRwHi",
        "outputId": "737626f5-1818-48ae-c271-8799c77cc6fe"
      },
      "execution_count": null,
      "outputs": [
        {
          "output_type": "execute_result",
          "data": {
            "text/plain": [
              "array([   1,    5,   28,    4,   20,  112,   50,  250, 1400])"
            ]
          },
          "metadata": {},
          "execution_count": 44
        }
      ]
    },
    {
      "cell_type": "markdown",
      "source": [
        "# Vector Norm\n",
        " The length of the vector is referred to as the vector norm or the vector’s magnitude.It is calculated using some measure that summarizes the distance of the vector from the origin of the vector space.\n",
        "\n",
        " Norms are functions that assign a strictly positive length or size to vectors in a vector space, except for the zero vector, which is assigned a length of zero. In mathematical optimization and computer science, particularly data analysis and machine learning, different types of norms (L1, L2, Max-norm) are used to evaluate functions or algorithms' performance, especially as a part of loss functions.\n",
        "\n",
        "Here's how L1-norm, L2-norm, and Max-norm are applied in real-world scenarios, business domains, and data science/machine learning:\n",
        "\n",
        "**1. L1-Norm (Least Absolute Deviations/Manhattan Distance):**\n",
        "\n",
        "- **Feature Selection in Machine Learning:** L1 regularization technique (often called LASSO) tends to shrink less important feature's coefficients effectively to zero, thus helping in feature selection and making the model simpler and interpretable.\n",
        "  \n",
        "- **Robustness to Outliers in Statistics and Data Science:** In scenarios where data contains a lot of outliers, using the L1-norm can be more robust since it leads to models that are less sensitive to outliers compared to models using L2-norm.\n",
        "\n",
        "- **Signal Processing:** In compressed sensing, L1-norm minimization is used in reconstructing a signal from sparse data or measurements.\n",
        "\n",
        "- **Finance:** In portfolio construction, the L1-norm is used in the optimization problem to impose sparsity constraints on portfolio weights, ensuring diversification.\n",
        "\n",
        "**2. L2-Norm (Least Squares/Euclidean Distance):**\n",
        "\n",
        "- **Data Fitting in Statistics and Machine Learning:** L2-norm is widely used in the least squares method for data fitting. The approach minimizes the sum of square differences between the observed and predicted values, making it particularly sensitive to outliers but excellent for data with Gaussian noise.\n",
        "\n",
        "- **Regularization in Machine Learning:** Known as Ridge regression, imposing an L2-norm penalty on regression coefficients constrains them, making the learning algorithm less prone to overfitting and improving model generalization.\n",
        "\n",
        "- **Navigation and GPS:** L2-norm is used in Euclidean distance calculation between points, relevant in systems requiring precision, like GPS applications where you need the actual shortest path.\n",
        "\n",
        "- **Healthcare:** In medical imaging, L2-norm is used in various reconstruction algorithms to improve image quality and detail.\n",
        "\n",
        "**3. Max-Norm (Chebyshev Norm):**\n",
        "\n",
        "- **Infinity Norm in Optimization Problems:** Max-norm (also known as infinity norm) is used in optimization problems where you want to minimize the maximum absolute value of the components of a vector. It's useful in operations research for handling \"worst-case\" scenarios.\n",
        "\n",
        "- **Computer Graphics:** In designing graphical filters, especially in texture mapping, the Max-norm helps in reducing artifacts and defining resolution in image processing algorithms.\n",
        "\n",
        "- **Supply Chain and Logistics:** For making decisions under uncertainty and handling worst-case scenarios in supply chain distribution and logistics, the Max-norm is used as a robust approach to minimize the maximum possible loss.\n",
        "\n",
        "- **Neural Networks:** Regularization with Max-norm constraints in neural networks helps in preventing overfitting by limiting the weights' capacity, making the network generalize better to unseen data."
      ],
      "metadata": {
        "id": "d4Nz8akdUxPe"
      }
    },
    {
      "cell_type": "code",
      "source": [
        "v = np.array([1,2,3]) #\n",
        "\n",
        "# calculate L1-norm\n",
        "l1 = np.linalg.norm(v, 1)\n",
        "\n",
        "l2 = np.linalg.norm(v,2)\n",
        "\n",
        "print(l1, l2)"
      ],
      "metadata": {
        "colab": {
          "base_uri": "https://localhost:8080/"
        },
        "id": "eJzB52KjVQof",
        "outputId": "87fda799-74f7-4d92-dde9-d809288916d2"
      },
      "execution_count": null,
      "outputs": [
        {
          "output_type": "stream",
          "name": "stdout",
          "text": [
            "6.0 3.7416573867739413\n"
          ]
        }
      ]
    },
    {
      "cell_type": "code",
      "source": [
        "v = np.array([1,2,3]).reshape(-1, 1)\n",
        "\n",
        "# calculate L1-norm\n",
        "l1 = np.linalg.norm(v, 1)\n",
        "\n",
        "l2 = np.linalg.norm(v,2)\n",
        "\n",
        "print(l1, l2)"
      ],
      "metadata": {
        "colab": {
          "base_uri": "https://localhost:8080/"
        },
        "id": "MRhw24tFVc8H",
        "outputId": "5311dbac-7b6e-47b8-df86-dbbbc91610fd"
      },
      "execution_count": null,
      "outputs": [
        {
          "output_type": "stream",
          "name": "stdout",
          "text": [
            "6.0 3.7416573867739413\n"
          ]
        }
      ]
    },
    {
      "cell_type": "code",
      "source": [
        "  np.pi"
      ],
      "metadata": {
        "colab": {
          "base_uri": "https://localhost:8080/"
        },
        "id": "2Ag4KgFEVc32",
        "outputId": "6f113758-332b-4125-ab3a-e906befaebba"
      },
      "execution_count": null,
      "outputs": [
        {
          "output_type": "execute_result",
          "data": {
            "text/plain": [
              "3.141592653589793"
            ]
          },
          "metadata": {},
          "execution_count": 53
        }
      ]
    },
    {
      "cell_type": "code",
      "source": [
        "maxnorm = np.linalg.norm(v, np.inf)\n",
        "maxnorm"
      ],
      "metadata": {
        "colab": {
          "base_uri": "https://localhost:8080/"
        },
        "id": "2btKR59zVcz3",
        "outputId": "a4273743-0ecc-4180-9ff2-74f0a4fb0234"
      },
      "execution_count": null,
      "outputs": [
        {
          "output_type": "execute_result",
          "data": {
            "text/plain": [
              "3.0"
            ]
          },
          "metadata": {},
          "execution_count": 52
        }
      ]
    },
    {
      "cell_type": "code",
      "source": [
        "# Cosine Similarity\n",
        "import numpy as np\n",
        "\n",
        "def cosine_similarity(vec1, vec2):\n",
        "    dot_product = np.dot(vec1, vec2)\n",
        "    norm_a = np.linalg.norm(vec1)\n",
        "    norm_b = np.linalg.norm(vec2)\n",
        "    return dot_product / (norm_a * norm_b)\n",
        "\n",
        "# Example vectors\n",
        "A = np.array([1, 2, 3])\n",
        "B = np.array([-1, 5, 6])\n",
        "\n",
        "# Calculate similarity\n",
        "similarity = cosine_similarity(A, B)\n",
        "print(\"Cosine similarity:\", similarity)\n"
      ],
      "metadata": {
        "colab": {
          "base_uri": "https://localhost:8080/"
        },
        "id": "m3nsPHJSVcwY",
        "outputId": "9bcc8acd-277a-4c99-af2e-61bcee17822c"
      },
      "execution_count": null,
      "outputs": [
        {
          "output_type": "stream",
          "name": "stdout",
          "text": [
            "Cosine similarity: 0.9164397149578765\n"
          ]
        }
      ]
    },
    {
      "cell_type": "code",
      "source": [
        "from sklearn.metrics.pairwise import cosine_similarity\n",
        "\n",
        "# Note: the function returns a similarity matrix, where each cell [i][j] represents the cosine similarity between vectors i and j.\n",
        "similarity = cosine_similarity(A.reshape(1,-1), B.reshape(1,-1))\n",
        "print(\"Cosine similarity:\", similarity[0][0])"
      ],
      "metadata": {
        "colab": {
          "base_uri": "https://localhost:8080/"
        },
        "id": "lwhdgfBJiL3g",
        "outputId": "43ebc965-f604-48cc-cefe-37b144a10878"
      },
      "execution_count": null,
      "outputs": [
        {
          "output_type": "stream",
          "name": "stdout",
          "text": [
            "Cosine similarity: 0.9164397149578765\n"
          ]
        }
      ]
    },
    {
      "cell_type": "code",
      "source": [],
      "metadata": {
        "id": "B9dM0s2piLvA"
      },
      "execution_count": null,
      "outputs": []
    },
    {
      "cell_type": "code",
      "source": [],
      "metadata": {
        "id": "JBnKXr06iLo-"
      },
      "execution_count": null,
      "outputs": []
    },
    {
      "cell_type": "code",
      "source": [
        "# Define a 3x3 matrix\n",
        "A = np.array([[1, 2, 3],\n",
        "              [4, 5, 6],\n",
        "              [7, 8, 9]])\n",
        "print(\"Matrix A:\")\n",
        "print(A)"
      ],
      "metadata": {
        "colab": {
          "base_uri": "https://localhost:8080/"
        },
        "id": "9YDyRrkfiLiJ",
        "outputId": "c1cf4d5d-8306-4a30-f8ca-2ce91a7e11a4"
      },
      "execution_count": null,
      "outputs": [
        {
          "output_type": "stream",
          "name": "stdout",
          "text": [
            "Matrix A:\n",
            "[[1 2 3]\n",
            " [4 5 6]\n",
            " [7 8 9]]\n"
          ]
        }
      ]
    },
    {
      "cell_type": "code",
      "source": [
        "import numpy as np\n",
        "from scipy.linalg import null_space\n",
        "# Finding the null space using SciPy\n",
        "nullspace = null_space(A)\n",
        "print(\"\\nNull space:\")\n",
        "print(nullspace)"
      ],
      "metadata": {
        "colab": {
          "base_uri": "https://localhost:8080/"
        },
        "id": "dG_sA8K7iLaJ",
        "outputId": "e2a1b64c-c112-4b6c-b883-43480b309bcb"
      },
      "execution_count": null,
      "outputs": [
        {
          "output_type": "stream",
          "name": "stdout",
          "text": [
            "\n",
            "Null space:\n",
            "[[-0.40824829]\n",
            " [ 0.81649658]\n",
            " [-0.40824829]]\n"
          ]
        }
      ]
    },
    {
      "cell_type": "markdown",
      "source": [
        "# Solving System of Linear Equations\n",
        "\n",
        "2x + 3y + 5z = 10\n",
        "\n",
        "3x + 2y + 1z = 8\n",
        "\n",
        "2x + 1y + 2z = 6\n"
      ],
      "metadata": {
        "id": "C1AoWUGsm7A-"
      }
    },
    {
      "cell_type": "code",
      "source": [],
      "metadata": {
        "id": "V4unYU-4mwj6"
      },
      "execution_count": null,
      "outputs": []
    },
    {
      "cell_type": "code",
      "source": [
        "import numpy as np\n",
        "\n",
        "# Define your matrices\n",
        "A = np.array([\n",
        "    [2, 3, 5],\n",
        "    [3, 2, 1],\n",
        "    [2, 1, 2]\n",
        "])\n",
        "B = np.array([10, 8, 6])\n",
        "\n",
        "# Check if A is a square matrix\n",
        "if A.shape[0] == A.shape[1]:\n",
        "    # Find the inverse of matrix A\n",
        "    try:\n",
        "        A_inv = np.linalg.inv(A)\n",
        "    except np.linalg.LinAlgError:\n",
        "        # Not invertible. Skip this one.\n",
        "        print(\"Matrix A is singular and does not have an inverse.\")\n",
        "        A_inv = None\n",
        "\n",
        "    if A_inv is not None:\n",
        "        # Solve for x by multiplying the inverse of A with B\n",
        "        x = np.dot(A_inv, B)\n",
        "\n",
        "        # Print the solution\n",
        "        print(f\"Solutions:\\nx: {x[0]}\\ny: {x[1]}\\nz: {x[2]}\")\n",
        "else:\n",
        "    print(\"Matrix A is not square.\")\n"
      ],
      "metadata": {
        "colab": {
          "base_uri": "https://localhost:8080/"
        },
        "id": "6jjc7HGjmv9g",
        "outputId": "5a8d3312-fad1-4da5-ae61-fa6b0911ed06"
      },
      "execution_count": null,
      "outputs": [
        {
          "output_type": "stream",
          "name": "stdout",
          "text": [
            "Solutions:\n",
            "x: 1.8181818181818181\n",
            "y: 0.9090909090909087\n",
            "z: 0.7272727272727275\n"
          ]
        }
      ]
    },
    {
      "cell_type": "code",
      "source": [],
      "metadata": {
        "id": "R7Tx7pSbm2QB"
      },
      "execution_count": null,
      "outputs": []
    },
    {
      "cell_type": "code",
      "source": [],
      "metadata": {
        "id": "NHh9KBEcm2G8"
      },
      "execution_count": null,
      "outputs": []
    },
    {
      "cell_type": "code",
      "source": [
        "# Coefficient matrix 'A' and constant matrix 'B'\n",
        "A = np.array([[2, 3, 5],\n",
        "              [3, 2, 1],\n",
        "              [2, 1, 2]])\n",
        "B = np.array([10, 8, 6])\n",
        "\n",
        "# Solving the system of linear equations\n",
        "x = np.linalg.solve(A, B)\n",
        "\n",
        "# Print the solutions\n",
        "print(f\"Solutions:\\nx: {x[0]}\\ny: {x[1]}\\nz: {x[2]}\")\n"
      ],
      "metadata": {
        "id": "kW5p_bS0m1-U"
      },
      "execution_count": null,
      "outputs": []
    },
    {
      "cell_type": "code",
      "source": [],
      "metadata": {
        "id": "I5ttRQCtycoW"
      },
      "execution_count": null,
      "outputs": []
    },
    {
      "cell_type": "code",
      "source": [
        "# finding roots of a Polynomial\n",
        "import numpy as np\n",
        "\n",
        "# x^2 - 7x + 6 = 0\n",
        "coefficients = [1, -7, 6]\n",
        "roots = np.roots(coefficients)\n",
        "print(roots)"
      ],
      "metadata": {
        "colab": {
          "base_uri": "https://localhost:8080/"
        },
        "id": "0u8cRmPoycHN",
        "outputId": "02bdd9ac-1a2f-47a4-9c5f-196c0a3af651"
      },
      "execution_count": null,
      "outputs": [
        {
          "output_type": "stream",
          "name": "stdout",
          "text": [
            "[6. 1.]\n"
          ]
        }
      ]
    },
    {
      "cell_type": "code",
      "source": [],
      "metadata": {
        "id": "jG53JlfIZ9QU"
      },
      "execution_count": null,
      "outputs": []
    },
    {
      "cell_type": "markdown",
      "source": [
        "# LU decomposition and QR factorization\n",
        "LU decomposition and QR factorization are common techniques in linear algebra for solving linear equations, inverting matrices, and computing determinants efficiently. Below are examples of how to perform these decompositions in Python using the NumPy and SciPy libraries.\n",
        "\n",
        "## 1. LU Decomposition\n",
        "LU Decomposition factors a matrix as the product of a lower triangular matrix and an upper triangular matrix (along with a permutation matrix). Here's how you can do this in Python using the `scipy.linalg.lu` function.\n",
        "\n",
        "In the coe below, `A` is the matrix you want to decompose, and `P`, `L`, and `U` are the permutation, lower triangular, and upper triangular matrices, respectively."
      ],
      "metadata": {
        "id": "j9Y0Eg1KaDx9"
      }
    },
    {
      "cell_type": "code",
      "source": [
        "import numpy as np\n",
        "from scipy.linalg import lu\n",
        "\n",
        "# Define a square matrix\n",
        "A = np.array([\n",
        "    [1, 2, 3],\n",
        "    [4, 5, 6],\n",
        "    [7, 8, 10]\n",
        "])\n",
        "\n",
        "# Perform LU decomposition\n",
        "P, L, U = lu(A)\n",
        "\n",
        "print(\"Original Matrix:\")\n",
        "print(A)\n",
        "print(\"\\nP = \")\n",
        "print(P)\n",
        "print(\"\\nL = \")\n",
        "print(L)\n",
        "print(\"\\nU = \")\n",
        "print(U)\n"
      ],
      "metadata": {
        "colab": {
          "base_uri": "https://localhost:8080/"
        },
        "id": "75lpy8ZvZ8z5",
        "outputId": "ac9a2775-559a-4703-e3f2-9233493675e7"
      },
      "execution_count": null,
      "outputs": [
        {
          "output_type": "stream",
          "name": "stdout",
          "text": [
            "Original Matrix:\n",
            "[[ 1  2  3]\n",
            " [ 4  5  6]\n",
            " [ 7  8 10]]\n",
            "\n",
            "P = \n",
            "[[0. 1. 0.]\n",
            " [0. 0. 1.]\n",
            " [1. 0. 0.]]\n",
            "\n",
            "L = \n",
            "[[1.         0.         0.        ]\n",
            " [0.14285714 1.         0.        ]\n",
            " [0.57142857 0.5        1.        ]]\n",
            "\n",
            "U = \n",
            "[[ 7.          8.         10.        ]\n",
            " [ 0.          0.85714286  1.57142857]\n",
            " [ 0.          0.         -0.5       ]]\n"
          ]
        }
      ]
    },
    {
      "cell_type": "code",
      "source": [],
      "metadata": {
        "id": "Uq0WtLB7Z8Zk"
      },
      "execution_count": null,
      "outputs": []
    },
    {
      "cell_type": "markdown",
      "source": [
        "## 2. QR Factorization\n",
        "QR factorization decomposes a matrix into a product of an orthogonal matrix and an upper triangular matrix. Here's how you can perform QR factorization using NumPy with the `numpy.linalg.qr` function.\n",
        "\n",
        "In the code below, `A` is the matrix you want to factorize, and `Q` and `R` are the orthogonal and upper triangular matrices, respectively."
      ],
      "metadata": {
        "id": "i-ws1joUa6IC"
      }
    },
    {
      "cell_type": "code",
      "source": [
        "import numpy as np\n",
        "\n",
        "# Define a matrix\n",
        "A = np.array([\n",
        "    [12, -51, 4],\n",
        "    [6, 167, -68],\n",
        "    [-4, 24, -41]\n",
        "])\n",
        "\n",
        "# Perform QR factorization\n",
        "Q, R = np.linalg.qr(A)\n",
        "\n",
        "print(\"Original Matrix:\")\n",
        "print(A)\n",
        "print(\"\\nQ = \")\n",
        "print(Q)\n",
        "print(\"\\nR = \")\n",
        "print(R)"
      ],
      "metadata": {
        "colab": {
          "base_uri": "https://localhost:8080/"
        },
        "id": "PlGZHwJjZ7_9",
        "outputId": "0eebfe80-c62e-48bb-be5b-360fafa1837e"
      },
      "execution_count": null,
      "outputs": [
        {
          "output_type": "stream",
          "name": "stdout",
          "text": [
            "Original Matrix:\n",
            "[[ 12 -51   4]\n",
            " [  6 167 -68]\n",
            " [ -4  24 -41]]\n",
            "\n",
            "Q = \n",
            "[[-0.85714286  0.39428571  0.33142857]\n",
            " [-0.42857143 -0.90285714 -0.03428571]\n",
            " [ 0.28571429 -0.17142857  0.94285714]]\n",
            "\n",
            "R = \n",
            "[[ -14.  -21.   14.]\n",
            " [   0. -175.   70.]\n",
            " [   0.    0.  -35.]]\n"
          ]
        }
      ]
    },
    {
      "cell_type": "code",
      "source": [],
      "metadata": {
        "id": "ds8zQl-Db9Bn"
      },
      "execution_count": null,
      "outputs": []
    },
    {
      "cell_type": "markdown",
      "source": [
        "# MAtrix Inverse using LU Decomposition\n",
        "\n",
        "LU decomposition can be utilized to calculate the inverse of a matrix \\( A \\) efficiently. The basic idea is to use the LU decomposition of \\( A \\) to solve the system \\( AX = I \\) for \\( X \\), where \\( I \\) is the identity matrix, and \\( X \\) will be the inverse of \\( A \\).\n",
        "\n",
        "Here's a step-by-step breakdown:\n",
        "\n",
        "1. Decompose the matrix \\( A \\) into its LU components: \\( A = LU \\).\n",
        "2. For each column \\( i \\) of the identity matrix \\( I \\):\n",
        "    - a. Solve the lower triangular system \\( LY = I[:,i] \\) for \\( Y \\).\n",
        "    - b. Solve the upper triangular system \\( UX = Y \\) for \\( X \\).\n",
        "    - c. The resulting \\( X \\) is the \\( i^{th} \\) column of \\( A^{-1} \\).\n",
        "\n",
        "Remember, not all matrices have an inverse. If \\( A \\) is singular, then this process won't provide a meaningful result."
      ],
      "metadata": {
        "id": "rgbXmzI0cAPr"
      }
    },
    {
      "cell_type": "code",
      "source": [
        "import numpy as np\n",
        "from scipy.linalg import lu_factor, lu_solve\n",
        "\n",
        "def matrix_inverse_using_lu(A):\n",
        "    # Retrieve the number of rows (or columns) for the square matrix A\n",
        "    n = A.shape[0]\n",
        "\n",
        "    # Perform LU decomposition on the input matrix A.\n",
        "    # 'lu' is the combined form of lower and upper triangular matrices.\n",
        "    # 'piv' holds the pivot indices showing row swaps made during the decomposition process.\n",
        "    lu, piv = lu_factor(A)\n",
        "\n",
        "    # Create an identity matrix of size 'n x n'. This matrix serves as the right-hand side\n",
        "    # of the equation system to be solved for finding the inverse. Each column in the identity\n",
        "    # matrix is used in turn to solve the equation system.\n",
        "    I = np.eye(n)\n",
        "\n",
        "    # Initialize an empty matrix of zeros with the same shape as A to store the inverse.\n",
        "    # The data type is specified as float64 for higher precision.\n",
        "    invA = np.zeros_like(A, dtype=np.float64)\n",
        "\n",
        "    # Iterate over each column of the identity matrix.\n",
        "    for i in range(n):\n",
        "        # For each column, solve the equation system 'Ax = I[:, i]' where 'A' is the original\n",
        "        # matrix, 'x' is the column vector of the inverse we are solving for, and 'I[:, i]'\n",
        "        # is the current column of the identity matrix.\n",
        "        # The function 'lu_solve' is used with the LU decomposition results and the current\n",
        "        # column of the identity matrix to find each 'x' (each column of the inverse matrix).\n",
        "        invA[:, i] = lu_solve((lu, piv), I[:, i])\n",
        "\n",
        "    # After finding all columns of the inverse matrix, return the completed inverse.\n",
        "    return invA\n",
        "\n",
        "# Define a matrix\n",
        "A = np.array([\n",
        "    [1, 2, 3],\n",
        "    [4, 5, 6],\n",
        "    [7, 8, 10]\n",
        "], dtype=np.float64)  # Ensure the dtype is float for precision\n",
        "\n",
        "# Calculate the inverse using LU decomposition\n",
        "A_inv_lu = matrix_inverse_using_lu(A)\n",
        "\n",
        "# Using NumPy's built-in function to find the inverse\n",
        "A_inv_np = np.linalg.inv(A)\n",
        "\n",
        "# Print the results\n",
        "print(\"Inverse using LU decomposition:\")\n",
        "print(A_inv_lu)\n",
        "print(\"\\nInverse using NumPy:\")\n",
        "print(A_inv_np)\n",
        "\n",
        "# Verify if the results are approximately equal\n",
        "if np.allclose(A_inv_lu, A_inv_np):\n",
        "    print(\"\\nBoth methods give approximately the same result.\")\n",
        "else:\n",
        "    print(\"\\nResults are different.\")\n",
        "\n",
        "# Validation by checking A_inv * A = I\n",
        "print(\"\\nValidation by multiplying the original matrix by its inverse:\")\n",
        "result = np.dot(A, A_inv_lu)\n",
        "print(result)\n",
        "\n",
        "# Check if the result is close to the identity matrix\n",
        "identity_matrix = np.eye(A.shape[0])\n",
        "if np.allclose(result, identity_matrix):\n",
        "    print(\"\\nThe result is approximately an identity matrix. The minor discrepancies are due to floating-point precision.\")\n",
        "else:\n",
        "    print(\"\\nThe result significantly deviates from an identity matrix. There may be an issue with the calculations.\")"
      ],
      "metadata": {
        "colab": {
          "base_uri": "https://localhost:8080/"
        },
        "id": "da4e8L4QmotB",
        "outputId": "952aa0ab-9ccc-4fe2-f288-95f215c462a2"
      },
      "execution_count": null,
      "outputs": [
        {
          "output_type": "stream",
          "name": "stdout",
          "text": [
            "Inverse using LU decomposition:\n",
            "[[-0.66666667 -1.33333333  1.        ]\n",
            " [-0.66666667  3.66666667 -2.        ]\n",
            " [ 1.         -2.          1.        ]]\n",
            "\n",
            "Inverse using NumPy:\n",
            "[[-0.66666667 -1.33333333  1.        ]\n",
            " [-0.66666667  3.66666667 -2.        ]\n",
            " [ 1.         -2.          1.        ]]\n",
            "\n",
            "Both methods give approximately the same result.\n",
            "\n",
            "Validation by multiplying the original matrix by its inverse:\n",
            "[[1.00000000e+00 0.00000000e+00 1.11022302e-16]\n",
            " [0.00000000e+00 1.00000000e+00 2.22044605e-16]\n",
            " [8.88178420e-16 0.00000000e+00 1.00000000e+00]]\n",
            "\n",
            "The result is approximately an identity matrix. The minor discrepancies are due to floating-point precision.\n"
          ]
        }
      ]
    },
    {
      "cell_type": "code",
      "source": [
        "import scipy.linalg as la\n",
        "import numpy as np\n",
        "\n",
        "def inverse_via_lu(A):\n",
        "    # Step 1: Perform LU Decomposition\n",
        "    P, L, U = la.lu(A)\n",
        "\n",
        "    # Step 2: Solve for the inverse\n",
        "    n = A.shape[0]\n",
        "    I = np.eye(n)\n",
        "    A_inv = np.zeros_like(A)\n",
        "\n",
        "    for i in range(n):\n",
        "        b = I[:, i]  # This selects the i-th column of the Identity matrix\n",
        "        y = la.solve_triangular(L, np.dot(P.T, b), lower=True)  # Solve Ly = Pb for y\n",
        "        x = la.solve_triangular(U, y, lower=False)  # Now solve Ux = y for x\n",
        "        A_inv[:, i] = x  # Place the solution in the appropriate column\n",
        "\n",
        "    return A_inv\n",
        "\n",
        "# Define a matrix\n",
        "A = np.array([\n",
        "    [1, 2, 3],\n",
        "    [4, 5, 6],\n",
        "    [7, 8, 10]\n",
        "], dtype=np.float64)  # Ensure the dtype is float for precision\n",
        "\n",
        "A_inv = inverse_via_lu(A)\n",
        "\n",
        "print(\"Original Matrix:\")\n",
        "print(A)\n",
        "\n",
        "print(\"\\nInverse Matrix:\")\n",
        "print(A_inv)\n",
        "\n",
        "# Verification: multiplying a matrix by its inverse should yield the identity matrix\n",
        "print(\"\\nA * A_inv:\")\n",
        "print(np.dot(A, A_inv))\n"
      ],
      "metadata": {
        "colab": {
          "base_uri": "https://localhost:8080/"
        },
        "id": "TJnmZRv4ouic",
        "outputId": "50a0b007-5ea3-4074-a1bb-8e5b8ebf4b04"
      },
      "execution_count": null,
      "outputs": [
        {
          "output_type": "stream",
          "name": "stdout",
          "text": [
            "Original Matrix:\n",
            "[[ 1.  2.  3.]\n",
            " [ 4.  5.  6.]\n",
            " [ 7.  8. 10.]]\n",
            "\n",
            "Inverse Matrix:\n",
            "[[-0.66666667 -1.33333333  1.        ]\n",
            " [-0.66666667  3.66666667 -2.        ]\n",
            " [ 1.         -2.          1.        ]]\n",
            "\n",
            "A * A_inv:\n",
            "[[1.00000000e+00 0.00000000e+00 1.11022302e-16]\n",
            " [0.00000000e+00 1.00000000e+00 2.22044605e-16]\n",
            " [8.88178420e-16 0.00000000e+00 1.00000000e+00]]\n"
          ]
        }
      ]
    },
    {
      "cell_type": "markdown",
      "source": [
        "This function first decomposes the matrix `A` into `P`, `L`, and `U` matrices (permutation, lower, and upper triangular matrices, respectively). It then solves the system of equations Ly = Pb and Ux = y for each column of the identity matrix, effectively solving the equation Ax = I, where `I` is the identity matrix. The solutions `x` are the columns of the inverse matrix."
      ],
      "metadata": {
        "id": "SOqM_S-xpUp5"
      }
    },
    {
      "cell_type": "code",
      "source": [],
      "metadata": {
        "id": "LOgxm_57pfvC"
      },
      "execution_count": null,
      "outputs": []
    },
    {
      "cell_type": "code",
      "source": [],
      "metadata": {
        "id": "uN1g1ioWphgc"
      },
      "execution_count": null,
      "outputs": []
    },
    {
      "cell_type": "code",
      "source": [],
      "metadata": {
        "id": "TK7uorOXpg5G"
      },
      "execution_count": null,
      "outputs": []
    }
  ]
}